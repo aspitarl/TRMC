{
 "cells": [
  {
   "cell_type": "code",
   "execution_count": 1,
   "metadata": {},
   "outputs": [],
   "source": [
    "## from __future__ import print_function\n",
    "from ipywidgets import interact, interactive, fixed, interact_manual\n",
    "import ipywidgets as widgets\n",
    "\n",
    "import pandas as pd\n",
    "import numpy as np\n",
    "import scipy.optimize\n",
    "import re\n",
    "import os\n",
    "import importlib\n",
    "\n",
    "import matplotlib.pyplot as plt\n",
    "import matplotlib as mpl\n",
    "from matplotlib.ticker import ScalarFormatter, FormatStrFormatter, FuncFormatter\n",
    "\n",
    "\n",
    "import trmc.kin as kin\n",
    "import trmc.load as load\n",
    "import trmc.analysis as analysis\n",
    "import trmc.plot as plot\n",
    "from trmc.plot import exp_formatter\n",
    "\n",
    "import xarray as xr\n",
    "\n",
    "mpl.rcParams['figure.figsize'] = [8, 8]\n",
    "mpl.rc('font',**{'size' : 18})\n",
    "\n",
    "from IPython.display import clear_output\n",
    "\n",
    "import itertools\n",
    "\n",
    "from collections import OrderedDict"
   ]
  },
  {
   "cell_type": "markdown",
   "metadata": {},
   "source": [
    "# Bi data (no dark cavity sweeps)"
   ]
  },
  {
   "cell_type": "code",
   "execution_count": 2,
   "metadata": {},
   "outputs": [],
   "source": [
    "# basedir = '/home/lee/OneDrive/Data/TRMC/Refined/freqdep/'\n",
    "basedir = 'C:\\\\Users\\\\aspit\\\\OneDrive\\\\Data\\\\TRMC\\\\Refined\\\\Freqdep\\\\'\n",
    "fps = OrderedDict()\n",
    "\n",
    "fps['A (0%)'] = basedir + 'Bi_A_2/'\n",
    "fps['D (0.001%)'] = basedir + 'Bi_D_2/'\n",
    "fps['C (0.01%)'] = basedir + 'Bi_C_2/'\n",
    "\n",
    "da_sw = load.sweeps2ds(fps)['Vsignal(V)']"
   ]
  },
  {
   "cell_type": "code",
   "execution_count": 3,
   "metadata": {},
   "outputs": [
    {
     "name": "stdout",
     "output_type": "stream",
     "text": [
      "Loading data for A (0%)\n",
      "Converting to Dataset\n",
      "Loading data for D (0.001%)\n",
      "Converting to Dataset\n",
      "Loading data for C (0.01%)\n",
      "Converting to Dataset\n",
      "done\n"
     ]
    }
   ],
   "source": [
    "das = []\n",
    "das_bv = []\n",
    "\n",
    "for samp in fps:\n",
    "    direc = os.path.join(fps[samp],'FreqFluence')\n",
    "    print('Loading data for ' + samp)\n",
    "    s_fps = load.freqfluence_flist(direc)\n",
    "#     print(s_fps)\n",
    "    s,backvs = load.freqfluence_load(s_fps)\n",
    "    print('Converting to Dataset')\n",
    "    da = xr.DataArray.from_series(s)\n",
    "    da = da.expand_dims('sample')\n",
    "    da['sample'] = [samp]\n",
    "    das.append(da)\n",
    "    \n",
    "    da_bv = xr.DataArray.from_series(backvs)\n",
    "    da_bv = da_bv.expand_dims('sample')\n",
    "    da_bv['sample'] = [samp]\n",
    "    das_bv.append(da_bv)\n",
    "    \n",
    "da_dv = xr.concat(das, dim = 'sample')\n",
    "da_dv = da_dv*(-1) #voltage is flipped\n",
    "da_bv = xr.concat(das_bv,dim = 'sample')\n",
    "print('done')"
   ]
  },
  {
   "cell_type": "code",
   "execution_count": 4,
   "metadata": {},
   "outputs": [
    {
     "name": "stdout",
     "output_type": "stream",
     "text": [
      "Stored 'da_dv_bi' (DataArray)\n",
      "Stored 'da_bv_bi' (DataArray)\n",
      "Stored 'da_sw_bi' (DataArray)\n"
     ]
    }
   ],
   "source": [
    "da_dv_bi = da_dv\n",
    "da_bv_bi = da_bv\n",
    "da_sw_bi = da_sw\n",
    "\n",
    "%store da_dv_bi\n",
    "%store da_bv_bi\n",
    "%store da_sw_bi"
   ]
  },
  {
   "cell_type": "markdown",
   "metadata": {},
   "source": [
    "# BHJ (dark cavity sweep)"
   ]
  },
  {
   "cell_type": "code",
   "execution_count": 5,
   "metadata": {},
   "outputs": [],
   "source": [
    "# basedir = '/home/lee/OneDrive/Data/TRMC/Refined/freqdep/'\n",
    "basedir = 'C:\\\\Users\\\\aspit\\\\OneDrive\\\\Data\\\\TRMC\\\\Refined\\\\Freqdep\\\\'\n",
    "fps = OrderedDict()\n",
    "\n",
    "fps['bhj'] = basedir + 'PH3TUA/'\n",
    "\n",
    "da_sw = load.sweeps2ds(fps)['Vsignal(V)']\n"
   ]
  },
  {
   "cell_type": "code",
   "execution_count": 6,
   "metadata": {},
   "outputs": [
    {
     "name": "stdout",
     "output_type": "stream",
     "text": [
      "no match for file TestSweep_FluenceSweep.csv\n",
      "Converting to Dataset\n",
      "done\n"
     ]
    }
   ],
   "source": [
    "das = []\n",
    "das_bv = []\n",
    "\n",
    "for samp in fps:\n",
    "    direc = os.path.join(fps[samp],'FreqFluence')\n",
    "    print('Loading data for ' + samp)\n",
    "    s_fps = load.freqfluence_flist(direc)\n",
    "#     print(s_fps)\n",
    "    s,backvs = load.freqfluence_load(s_fps)\n",
    "    print('Converting to Dataset')\n",
    "    da = xr.DataArray.from_series(s)\n",
    "    da = da.expand_dims('sample')\n",
    "    da['sample'] = [samp]\n",
    "    das.append(da)\n",
    "    \n",
    "    da_bv = xr.DataArray.from_series(backvs)\n",
    "    da_bv = da_bv.expand_dims('sample')\n",
    "    da_bv['sample'] = [samp]\n",
    "    das_bv.append(da_bv)\n",
    "    \n",
    "da_dv = xr.concat(das, dim = 'sample')\n",
    "da_dv = da_dv*(-1) #voltage is flipped\n",
    "da_bv = xr.concat(das_bv,dim = 'sample')\n",
    "print('done')"
   ]
  },
  {
   "cell_type": "code",
   "execution_count": 7,
   "metadata": {},
   "outputs": [],
   "source": [
    "direc = os.path.join(fps['bhj'],'FreqFluence')\n",
    "fpsdcs = load.freqdcs_flist(direc)\n",
    "das = []\n",
    "\n",
    "for direction,freqt in fpsdcs.index:\n",
    "    fp = fpsdcs.loc[direction,freqt]\n",
    "    s = load.loadsweep(fp,defaultV = 0.025)\n",
    "    s = s.rename(s.name.replace(' ', ''))\n",
    "    s.index = s.index.rename('freq')\n",
    "    da = xr.DataArray.from_series(s)\n",
    "    da = da.assign_coords(direction = direction).expand_dims('direction')\n",
    "    da = da.assign_coords(freqt = freqt).expand_dims('freqt')\n",
    "    das.append(da)\n",
    "    \n",
    "da_dcs = xr.merge(das)['Vsignal(V)']"
   ]
  },
  {
   "cell_type": "code",
   "execution_count": 8,
   "metadata": {},
   "outputs": [
    {
     "name": "stdout",
     "output_type": "stream",
     "text": [
      "Stored 'da_dv_bhj' (DataArray)\n",
      "Stored 'da_bv_bhj' (DataArray)\n",
      "Stored 'da_sw_bhj' (DataArray)\n",
      "Stored 'da_dcs_bhj' (DataArray)\n"
     ]
    }
   ],
   "source": [
    "da_dv_bhj = da_dv\n",
    "da_bv_bhj = da_bv\n",
    "da_sw_bhj = da_sw\n",
    "da_dcs_bhj = da_dcs\n",
    "\n",
    "%store da_dv_bhj\n",
    "%store da_bv_bhj\n",
    "%store da_sw_bhj\n",
    "%store da_dcs_bhj "
   ]
  }
 ],
 "metadata": {
  "kernelspec": {
   "display_name": "Python 3",
   "language": "python",
   "name": "python3"
  },
  "language_info": {
   "codemirror_mode": {
    "name": "ipython",
    "version": 3
   },
   "file_extension": ".py",
   "mimetype": "text/x-python",
   "name": "python",
   "nbconvert_exporter": "python",
   "pygments_lexer": "ipython3",
   "version": "3.6.7"
  }
 },
 "nbformat": 4,
 "nbformat_minor": 2
}
