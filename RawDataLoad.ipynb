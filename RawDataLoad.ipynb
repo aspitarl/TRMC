{
 "cells": [
  {
   "cell_type": "code",
   "execution_count": 8,
   "metadata": {},
   "outputs": [],
   "source": [
    "import pandas as pd\n",
    "import numpy as np\n",
    "import re\n",
    "import os\n",
    "\n",
    "import trmc.load as load\n",
    "import trmc.analysis as analysis\n",
    "\n",
    "import xarray as xr\n",
    "\n",
    "from IPython.display import clear_output\n",
    "from collections import OrderedDict\n",
    "import itertools"
   ]
  },
  {
   "cell_type": "code",
   "execution_count": 16,
   "metadata": {},
   "outputs": [],
   "source": [
    "# basedir = '\\\\\\\\depot.engr.oregonstate.edu\\\\users\\\\coe_apirate\\\\Windows.Documents\\\\Desktop\\\\Data'\n",
    "basedir = 'C:\\\\Users\\\\aspit\\\\OneDrive\\\\Data\\\\TRMC\\\\Raw Data'\n",
    "fps = {\n",
    "    'bia': os.path.join(basedir,'20190128\\Bi_A_2'),\n",
    "    'bid': os.path.join(basedir,'20190201\\Sample_D_2'),\n",
    "    'bic': os.path.join(basedir,'20190130\\Sample Bi_C_2_2'),\n",
    "    'bib': os.path.join(basedir,'20190202\\Sample Bi_B_2'),\n",
    "#     'bhjua': os.path.join(basedir,'20190125\\PH3TUA'),\n",
    "#     'bhja': os.path.join(basedir,'20190127\\P3HTA')   \n",
    "}"
   ]
  },
  {
   "cell_type": "code",
   "execution_count": 17,
   "metadata": {},
   "outputs": [],
   "source": [
    "da_sw = load.sweeps2ds(fps)['Vsignal(V)']"
   ]
  },
  {
   "cell_type": "markdown",
   "metadata": {},
   "source": [
    "## load in and plot the deltaV data sets"
   ]
  },
  {
   "cell_type": "code",
   "execution_count": 18,
   "metadata": {},
   "outputs": [],
   "source": [
    "# timeshifts = {'bhjua': -270e-9,'bhja': -270e-9, 'bid': -270e-9,'bib': -270e-9}\n",
    "timefactor = {'bia': 2, 'bic' : 2}\n",
    "\n",
    "#corect for incorrect data entry, most are right\n",
    "fluencefactor = {\n",
    "    'bia': 5.53665E+14/5.53665E+14,\n",
    "    'bid': 4.21267E+14/4.213E+14,\n",
    "    'bic': 5.29593E+14/3.611E+14,\n",
    "    'bib': 3.852E+14/3.852E+14,\n",
    "}"
   ]
  },
  {
   "cell_type": "code",
   "execution_count": 19,
   "metadata": {},
   "outputs": [
    {
     "name": "stdout",
     "output_type": "stream",
     "text": [
      "no match for file TestSweep_psm_image.png\n",
      "Loading data for bib\n",
      "Converting to Dataset\n",
      "Multiplying fluence of bib by 1.0\n",
      "done\n"
     ]
    }
   ],
   "source": [
    "das = []\n",
    "das_bv = []\n",
    "\n",
    "for samp in fps:\n",
    "    direc = os.path.join(fps[samp],'FreqFluence')\n",
    "    s_fps = load.freqfluence_flist(direc)\n",
    "    print('Loading data for ' + samp)\n",
    "    s,backvs = load.freqfluence_load(s_fps)\n",
    "    print('Converting to Dataset')\n",
    "    da = xr.DataArray.from_series(s)\n",
    "    da = da.chunk({'time': 2000})\n",
    "    da = da.expand_dims('sample')\n",
    "    da['sample'] = [samp]\n",
    "    \n",
    "    if samp in timefactor:\n",
    "#         print('shifting time for ' + samp + \" by \" + str(timeshifts[samp]))\n",
    "        print('scaling time for ' + samp + \" by \" + str(timefactor[samp]))\n",
    "        timearr = da.indexes['time']\n",
    "        da = da.assign_coords(time =  timearr*timefactor[samp])\n",
    "        \n",
    "    if samp in fluencefactor:\n",
    "        print('Multiplying fluence of ' + samp + \" by \" + str(fluencefactor[samp]))\n",
    "        fluencearr = da.indexes['fluence']\n",
    "        da = da.assign_coords(fluence =  fluencearr*fluencefactor[samp])\n",
    "    \n",
    "    das.append(da)\n",
    "    \n",
    "    da_bv = xr.DataArray.from_series(backvs)\n",
    "    da_bv = da_bv.expand_dims('sample')\n",
    "    da_bv['sample'] = [samp]\n",
    "    das_bv.append(da_bv)\n",
    "    \n",
    "da_dv = xr.concat(das, dim = 'sample')\n",
    "da_dv = da_dv*(-1) #voltage is flipped\n",
    "da_bv = xr.concat(das_bv,dim = 'sample')\n",
    "print('done')"
   ]
  },
  {
   "cell_type": "code",
   "execution_count": 6,
   "metadata": {},
   "outputs": [],
   "source": [
    "das = []\n",
    "for samp in fps:\n",
    "    direc = os.path.join(fps[samp],'FreqFluence')    \n",
    "    fpsdcs = load.freqdcs_flist(direc)\n",
    "    \n",
    "    for direction,freqt in fpsdcs.index:\n",
    "        fp = fpsdcs.loc[direction,freqt]\n",
    "        s = load.loadsweep(fp,defaultV = 0.025)\n",
    "        s = s.rename(s.name.replace(' ', ''))\n",
    "        s.index = s.index.rename('freq')\n",
    "        da = xr.DataArray.from_series(s)\n",
    "        da = da.assign_coords(direction = direction).expand_dims('direction')\n",
    "        da = da.assign_coords(freqt = freqt).expand_dims('freqt')\n",
    "        da = da.assign_coords(sample = samp).expand_dims('sample')\n",
    "        das.append(da)\n",
    "    \n",
    "da_dcs = xr.merge(das)['Vsignal(V)']"
   ]
  },
  {
   "cell_type": "code",
   "execution_count": 22,
   "metadata": {},
   "outputs": [
    {
     "name": "stdout",
     "output_type": "stream",
     "text": [
      "Stored 'da_dv' (DataArray)\n",
      "Stored 'da_bv' (DataArray)\n",
      "Stored 'da_sw' (DataArray)\n",
      "Stored 'da_dcs' (DataArray)\n"
     ]
    }
   ],
   "source": [
    "%store da_dv\n",
    "%store da_bv\n",
    "%store da_sw\n",
    "%store da_dcs"
   ]
  }
 ],
 "metadata": {
  "kernelspec": {
   "display_name": "Python 3",
   "language": "python",
   "name": "python3"
  },
  "language_info": {
   "codemirror_mode": {
    "name": "ipython",
    "version": 3
   },
   "file_extension": ".py",
   "mimetype": "text/x-python",
   "name": "python",
   "nbconvert_exporter": "python",
   "pygments_lexer": "ipython3",
   "version": "3.6.6"
  }
 },
 "nbformat": 4,
 "nbformat_minor": 2
}
