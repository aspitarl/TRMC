{
 "cells": [
  {
   "cell_type": "code",
   "execution_count": 4,
   "metadata": {},
   "outputs": [],
   "source": [
    "import pandas as pd\n",
    "import numpy as np\n",
    "import easygui\n",
    "\n",
    "defaultpath = 'C:\\\\Users\\\\aspit\\\\OneDrive\\\\Data\\\\TRMC\\\\20181016'"
   ]
  },
  {
   "cell_type": "code",
   "execution_count": 8,
   "metadata": {},
   "outputs": [],
   "source": [
    "#filepaths = easygui.fileopenbox(default=defaultpath,multiple=True)\n",
    "filepaths = ['C:\\\\Users\\\\aspit\\\\OneDrive\\\\Data\\\\TRMC\\\\20181016\\\\Data\\\\High_Power_Filter=01_Fluence=6.45E+14_data.csv',\n",
    " 'C:\\\\Users\\\\aspit\\\\OneDrive\\\\Data\\\\TRMC\\\\20181016\\\\Data\\\\High_Power_Filter=02_Fluence=5.121E+14_data.csv',\n",
    " 'C:\\\\Users\\\\aspit\\\\OneDrive\\\\Data\\\\TRMC\\\\20181016\\\\Data\\\\High_Power_Filter=03_Fluence=4.07E+14_data.csv',\n",
    " 'C:\\\\Users\\\\aspit\\\\OneDrive\\\\Data\\\\TRMC\\\\20181016\\\\Data\\\\High_Power_Filter=04_Fluence=3.231E+14_data.csv',\n",
    " 'C:\\\\Users\\\\aspit\\\\OneDrive\\\\Data\\\\TRMC\\\\20181016\\\\Data\\\\High_Power_Filter=05_Fluence=2.567E+14_data.csv',\n",
    " 'C:\\\\Users\\\\aspit\\\\OneDrive\\\\Data\\\\TRMC\\\\20181016\\\\Data\\\\High_Power_Filter=06_Fluence=2.038E+14_data.csv',\n",
    " 'C:\\\\Users\\\\aspit\\\\OneDrive\\\\Data\\\\TRMC\\\\20181016\\\\Data\\\\High_Power_Filter=07_Fluence=1.619E+14_data.csv',\n",
    " 'C:\\\\Users\\\\aspit\\\\OneDrive\\\\Data\\\\TRMC\\\\20181016\\\\Data\\\\High_Power_Filter=08_Fluence=6.45E+13_data.csv',\n",
    " 'C:\\\\Users\\\\aspit\\\\OneDrive\\\\Data\\\\TRMC\\\\20181016\\\\Data\\\\High_Power_Filter=09_Fluence=3.231E+13_data.csv',\n",
    " 'C:\\\\Users\\\\aspit\\\\OneDrive\\\\Data\\\\TRMC\\\\20181016\\\\Data\\\\High_Power_Filter=10_Fluence=6.45E+12_data.csv',\n",
    " 'C:\\\\Users\\\\aspit\\\\OneDrive\\\\Data\\\\TRMC\\\\20181016\\\\Data\\\\High_Power_Filter=11_Fluence=6.45E+11_data.csv']"
   ]
  },
  {
   "cell_type": "code",
   "execution_count": null,
   "metadata": {},
   "outputs": [],
   "source": []
  }
 ],
 "metadata": {
  "kernelspec": {
   "display_name": "Python 3",
   "language": "python",
   "name": "python3"
  },
  "language_info": {
   "codemirror_mode": {
    "name": "ipython",
    "version": 3
   },
   "file_extension": ".py",
   "mimetype": "text/x-python",
   "name": "python",
   "nbconvert_exporter": "python",
   "pygments_lexer": "ipython3",
   "version": "3.6.4"
  }
 },
 "nbformat": 4,
 "nbformat_minor": 2
}
